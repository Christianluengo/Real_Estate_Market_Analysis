{
 "cells": [
  {
   "cell_type": "markdown",
   "metadata": {},
   "source": [
    "## Import Libraries"
   ]
  },
  {
   "cell_type": "code",
   "execution_count": 1,
   "metadata": {},
   "outputs": [],
   "source": [
    "import sys\n",
    "sys.path.append('../')\n",
    "from src.set_functions import concat_csv"
   ]
  },
  {
   "cell_type": "markdown",
   "metadata": {},
   "source": [
    "## Merging data"
   ]
  },
  {
   "cell_type": "code",
   "execution_count": 2,
   "metadata": {},
   "outputs": [
    {
     "data": {
      "text/html": [
       "<div>\n",
       "<style scoped>\n",
       "    .dataframe tbody tr th:only-of-type {\n",
       "        vertical-align: middle;\n",
       "    }\n",
       "\n",
       "    .dataframe tbody tr th {\n",
       "        vertical-align: top;\n",
       "    }\n",
       "\n",
       "    .dataframe thead th {\n",
       "        text-align: right;\n",
       "    }\n",
       "</style>\n",
       "<table border=\"1\" class=\"dataframe\">\n",
       "  <thead>\n",
       "    <tr style=\"text-align: right;\">\n",
       "      <th></th>\n",
       "      <th>id</th>\n",
       "      <th>typeId</th>\n",
       "      <th>subtypeId</th>\n",
       "      <th>date</th>\n",
       "      <th>advertiser</th>\n",
       "      <th>descriptions</th>\n",
       "      <th>region</th>\n",
       "      <th>province</th>\n",
       "      <th>city</th>\n",
       "      <th>zipcode</th>\n",
       "      <th>latitude</th>\n",
       "      <th>longitude</th>\n",
       "      <th>rooms</th>\n",
       "      <th>bathrooms</th>\n",
       "      <th>surface</th>\n",
       "      <th>energy_certificate</th>\n",
       "      <th>antiquity</th>\n",
       "      <th>floor</th>\n",
       "      <th>surfaceland</th>\n",
       "      <th>price</th>\n",
       "    </tr>\n",
       "  </thead>\n",
       "  <tbody>\n",
       "    <tr>\n",
       "      <th>0</th>\n",
       "      <td>162758656</td>\n",
       "      <td>2</td>\n",
       "      <td>1</td>\n",
       "      <td>2022-02-24T20:14:25.657</td>\n",
       "      <td>NOVACASA ALBACETE INMOBILIARIA</td>\n",
       "      <td>{'es-ES': 'NovaCasa VENDE Piso de 5 Dormitorio...</td>\n",
       "      <td>Castilla-La Mancha</td>\n",
       "      <td>Albacete</td>\n",
       "      <td>Albacete Capital</td>\n",
       "      <td>2004</td>\n",
       "      <td>38.98808</td>\n",
       "      <td>-1.866541</td>\n",
       "      <td>5</td>\n",
       "      <td>2</td>\n",
       "      <td>140</td>\n",
       "      <td>7</td>\n",
       "      <td>6</td>\n",
       "      <td>0</td>\n",
       "      <td>0</td>\n",
       "      <td>135000.0</td>\n",
       "    </tr>\n",
       "    <tr>\n",
       "      <th>1</th>\n",
       "      <td>162463749</td>\n",
       "      <td>2</td>\n",
       "      <td>1</td>\n",
       "      <td>2022-01-31T08:06:16.413</td>\n",
       "      <td>Haya Real Estate</td>\n",
       "      <td>{'es-ES': 'Edificio de 4 plantas, con fachada ...</td>\n",
       "      <td>Castilla-La Mancha</td>\n",
       "      <td>Albacete</td>\n",
       "      <td>Albacete Capital</td>\n",
       "      <td>2005</td>\n",
       "      <td>39.00204</td>\n",
       "      <td>-1.861962</td>\n",
       "      <td>3</td>\n",
       "      <td>2</td>\n",
       "      <td>1</td>\n",
       "      <td>7</td>\n",
       "      <td>0</td>\n",
       "      <td>9</td>\n",
       "      <td>0</td>\n",
       "      <td>77328.0</td>\n",
       "    </tr>\n",
       "    <tr>\n",
       "      <th>2</th>\n",
       "      <td>162594835</td>\n",
       "      <td>2</td>\n",
       "      <td>6</td>\n",
       "      <td>2022-02-09T20:13:11.457</td>\n",
       "      <td>CAMPO INMOBILIARIA</td>\n",
       "      <td>{'es-ES': 'REF.-20263 CAMPO INMOBILIARIA vende...</td>\n",
       "      <td>Castilla-La Mancha</td>\n",
       "      <td>Albacete</td>\n",
       "      <td>Albacete Capital</td>\n",
       "      <td>2006</td>\n",
       "      <td>38.98234</td>\n",
       "      <td>-1.874801</td>\n",
       "      <td>3</td>\n",
       "      <td>2</td>\n",
       "      <td>80</td>\n",
       "      <td>7</td>\n",
       "      <td>0</td>\n",
       "      <td>8</td>\n",
       "      <td>0</td>\n",
       "      <td>175000.0</td>\n",
       "    </tr>\n",
       "  </tbody>\n",
       "</table>\n",
       "</div>"
      ],
      "text/plain": [
       "          id  typeId  subtypeId                     date  \\\n",
       "0  162758656       2          1  2022-02-24T20:14:25.657   \n",
       "1  162463749       2          1  2022-01-31T08:06:16.413   \n",
       "2  162594835       2          6  2022-02-09T20:13:11.457   \n",
       "\n",
       "                       advertiser  \\\n",
       "0  NOVACASA ALBACETE INMOBILIARIA   \n",
       "1                Haya Real Estate   \n",
       "2              CAMPO INMOBILIARIA   \n",
       "\n",
       "                                        descriptions              region  \\\n",
       "0  {'es-ES': 'NovaCasa VENDE Piso de 5 Dormitorio...  Castilla-La Mancha   \n",
       "1  {'es-ES': 'Edificio de 4 plantas, con fachada ...  Castilla-La Mancha   \n",
       "2  {'es-ES': 'REF.-20263 CAMPO INMOBILIARIA vende...  Castilla-La Mancha   \n",
       "\n",
       "   province               city zipcode  latitude  longitude  rooms  bathrooms  \\\n",
       "0  Albacete   Albacete Capital    2004  38.98808  -1.866541      5          2   \n",
       "1  Albacete   Albacete Capital    2005  39.00204  -1.861962      3          2   \n",
       "2  Albacete   Albacete Capital    2006  38.98234  -1.874801      3          2   \n",
       "\n",
       "   surface  energy_certificate  antiquity  floor  surfaceland     price  \n",
       "0      140                   7          6      0            0  135000.0  \n",
       "1        1                   7          0      9            0   77328.0  \n",
       "2       80                   7          0      8            0  175000.0  "
      ]
     },
     "execution_count": 2,
     "metadata": {},
     "output_type": "execute_result"
    }
   ],
   "source": [
    "dataset = concat_csv()\n",
    "dataset.head(3) # muestra de las primeras 3 lineas del dataset"
   ]
  },
  {
   "cell_type": "code",
   "execution_count": 3,
   "metadata": {},
   "outputs": [
    {
     "data": {
      "text/plain": [
       "(228116, 20)"
      ]
     },
     "execution_count": 3,
     "metadata": {},
     "output_type": "execute_result"
    }
   ],
   "source": [
    "dataset.shape"
   ]
  }
 ],
 "metadata": {
  "kernelspec": {
   "display_name": "jupyter",
   "language": "python",
   "name": "jupyter"
  },
  "language_info": {
   "codemirror_mode": {
    "name": "ipython",
    "version": 3
   },
   "file_extension": ".py",
   "mimetype": "text/x-python",
   "name": "python",
   "nbconvert_exporter": "python",
   "pygments_lexer": "ipython3",
   "version": "3.8.5"
  }
 },
 "nbformat": 4,
 "nbformat_minor": 4
}
